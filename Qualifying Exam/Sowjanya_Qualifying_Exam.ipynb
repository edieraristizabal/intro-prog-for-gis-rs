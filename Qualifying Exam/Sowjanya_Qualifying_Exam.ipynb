{
 "cells": [
  {
   "cell_type": "markdown",
   "metadata": {},
   "source": [
    "# Answer the following 3 questions"
   ]
  },
  {
   "cell_type": "markdown",
   "metadata": {},
   "source": [
    "### This is the Comprehensive Exam for Venkata Jyothi Ponnada. "
   ]
  },
  {
   "cell_type": "markdown",
   "metadata": {},
   "source": [
    "During the exam, you can use any resource on the open Internet, such as [Python](https://www.python.org/) or [ArcGIS](https://developers.arcgis.com/python/) documentation. Please attempt every question. I believe that you should be able to complete them."
   ]
  },
  {
   "cell_type": "markdown",
   "metadata": {},
   "source": [
    "## Problem 1 (25 points)\n",
    "\n",
    "Unzip **hurricane_nate_subset.zip.** Create a Notebook that uses ```arcpy``` to help you answer the following questions:\n",
    "1. How many rasters are in the folder?\n",
    "2. What is the projection of the rasters? All you have to do is show that you can print out the projection of the rasters.\n",
    "3. Do all the rasters have the same projection? All you have to do is tell me yes or no.\n",
    "4. How many bands to the rasters have? "
   ]
  },
  {
   "cell_type": "markdown",
   "metadata": {},
   "source": [
    "## Problem 2 (25 Points)\n",
    "\n",
    "Unzip **tlgdb_2019_a_29_mo.gdb.zip** Create a Notebook that uses ```arcpy``` to list out the following information about every feature class in the geodatabase:\n",
    "1. Feature class name\n",
    "2. Number of features in the feature class\n",
    "3. Spatial reference name of the feature class\n",
    "4. The shape type of the feature class (for example, point, polyline, or polygon)"
   ]
  },
  {
   "cell_type": "markdown",
   "metadata": {},
   "source": [
    "## Problem 3 - Creating Some Data Science Notebooks (25 points)\n",
    "\n",
    "### Houston Demographic Study\n",
    "Using the [Popular Demographics in the United States](https://services.arcgis.com/P3ePLMYs2RVChkJx/ArcGIS/rest/services/AGOL_Base_2018_Final/FeatureServer/2), create a Python Notebook that answers the following questions\n",
    "1. Creates a map over Texas. (**5 points**)\n",
    "2. Adds the [Popular Demographics Layer](https://services.arcgis.com/P3ePLMYs2RVChkJx/ArcGIS/rest/services/AGOL_Base_2018_Final/FeatureServer/2) to the map. (**5 points**)\n",
    "3. For the state of Texas only, what county had the greatest population in the year 2010(*TOTPOP10*)? (**5 points**)\n",
    "4. For the state of Texas only, what county had the highest diversity index(*DIVINDX_CY*)? (**5points**)\n",
    "5. Create a bar chart that shows the total population by county for the 10 most populous counties (*TOTPOP10*). (**5 points**)"
   ]
  },
  {
   "cell_type": "code",
   "execution_count": null,
   "metadata": {},
   "outputs": [],
   "source": []
  }
 ],
 "metadata": {
  "kernelspec": {
   "display_name": "Python 3",
   "language": "python",
   "name": "python3"
  },
  "language_info": {
   "codemirror_mode": {
    "name": "ipython",
    "version": 3
   },
   "file_extension": ".py",
   "mimetype": "text/x-python",
   "name": "python",
   "nbconvert_exporter": "python",
   "pygments_lexer": "ipython3",
   "version": "3.6.10"
  }
 },
 "nbformat": 4,
 "nbformat_minor": 4
}
