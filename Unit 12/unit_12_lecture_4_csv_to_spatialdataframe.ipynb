{
 "cells": [
  {
   "cell_type": "markdown",
   "metadata": {},
   "source": [
    "# I want to work with the CSVs from [STMPD](http://www.slmpd.org/Crimereports.shtml).\n",
    "\n",
    "Go out and get the March 2020 data for this lecture."
   ]
  },
  {
   "cell_type": "markdown",
   "metadata": {},
   "source": [
    "These spreadsheets have points that are in wkid 102696. How do we work with data in this projection using a Spatial DataFrame?"
   ]
  },
  {
   "cell_type": "markdown",
   "metadata": {},
   "source": [
    "## Let's read the CSV file"
   ]
  },
  {
   "cell_type": "code",
   "execution_count": 1,
   "metadata": {},
   "outputs": [],
   "source": [
    "import pandas as pd"
   ]
  },
  {
   "cell_type": "code",
   "execution_count": 8,
   "metadata": {},
   "outputs": [
    {
     "data": {
      "text/plain": [
       "3407    20-012132\n",
       "3408    19-064385\n",
       "3409    20-009953\n",
       "3410    20-013588\n",
       "3411    20-012542\n",
       "3412    20-012549\n",
       "3413    20-012546\n",
       "3414    20-002475\n",
       "3415    20-012825\n",
       "3416    19-064875\n",
       "Name: Complaint, dtype: object"
      ]
     },
     "execution_count": 8,
     "metadata": {},
     "output_type": "execute_result"
    }
   ],
   "source": [
    "crime_csv = pd.read_csv(\"March2020.CSV\")\n",
    "crime_csv['Complaint'].tail(10)"
   ]
  },
  {
   "cell_type": "code",
   "execution_count": 16,
   "metadata": {},
   "outputs": [],
   "source": [
    "cols = crime_csv.columns"
   ]
  },
  {
   "cell_type": "code",
   "execution_count": 17,
   "metadata": {},
   "outputs": [
    {
     "name": "stdout",
     "output_type": "stream",
     "text": [
      "Complaint\n",
      "CodedMonth\n",
      "DateOccur\n",
      "FlagCrime\n",
      "FlagUnfounded\n",
      "FlagAdministrative\n",
      "Count\n",
      "FlagCleanup\n",
      "Crime\n",
      "District\n",
      "Description\n",
      "ILEADSAddress\n",
      "ILEADSStreet\n",
      "Neighborhood\n",
      "LocationName\n",
      "LocationComment\n",
      "CADAddress\n",
      "CADStreet\n",
      "XCoord\n",
      "YCoord\n"
     ]
    }
   ],
   "source": [
    "for col in cols:\n",
    "    print(col)"
   ]
  },
  {
   "cell_type": "code",
   "execution_count": 12,
   "metadata": {},
   "outputs": [
    {
     "data": {
      "text/plain": [
       "pandas.core.series.Series"
      ]
     },
     "execution_count": 12,
     "metadata": {},
     "output_type": "execute_result"
    }
   ],
   "source": [
    "type(crime_csv['Complaint'])"
   ]
  },
  {
   "cell_type": "code",
   "execution_count": 18,
   "metadata": {},
   "outputs": [
    {
     "data": {
      "text/plain": [
       "3417"
      ]
     },
     "execution_count": 18,
     "metadata": {},
     "output_type": "execute_result"
    }
   ],
   "source": [
    "len(crime_csv)"
   ]
  },
  {
   "cell_type": "code",
   "execution_count": 19,
   "metadata": {},
   "outputs": [],
   "source": [
    "columns = crime_csv.columns"
   ]
  },
  {
   "cell_type": "code",
   "execution_count": 20,
   "metadata": {},
   "outputs": [
    {
     "data": {
      "text/plain": [
       "Index(['Complaint', 'CodedMonth', 'DateOccur', 'FlagCrime', 'FlagUnfounded',\n",
       "       'FlagAdministrative', 'Count', 'FlagCleanup', 'Crime', 'District',\n",
       "       'Description', 'ILEADSAddress', 'ILEADSStreet', 'Neighborhood',\n",
       "       'LocationName', 'LocationComment', 'CADAddress', 'CADStreet', 'XCoord',\n",
       "       'YCoord'],\n",
       "      dtype='object')"
      ]
     },
     "execution_count": 20,
     "metadata": {},
     "output_type": "execute_result"
    }
   ],
   "source": [
    "columns"
   ]
  },
  {
   "cell_type": "code",
   "execution_count": 21,
   "metadata": {},
   "outputs": [
    {
     "data": {
      "text/html": [
       "<div>\n",
       "<style scoped>\n",
       "    .dataframe tbody tr th:only-of-type {\n",
       "        vertical-align: middle;\n",
       "    }\n",
       "\n",
       "    .dataframe tbody tr th {\n",
       "        vertical-align: top;\n",
       "    }\n",
       "\n",
       "    .dataframe thead th {\n",
       "        text-align: right;\n",
       "    }\n",
       "</style>\n",
       "<table border=\"1\" class=\"dataframe\">\n",
       "  <thead>\n",
       "    <tr style=\"text-align: right;\">\n",
       "      <th></th>\n",
       "      <th>Complaint</th>\n",
       "      <th>CodedMonth</th>\n",
       "      <th>DateOccur</th>\n",
       "      <th>FlagCrime</th>\n",
       "      <th>FlagUnfounded</th>\n",
       "      <th>FlagAdministrative</th>\n",
       "      <th>Count</th>\n",
       "      <th>FlagCleanup</th>\n",
       "      <th>Crime</th>\n",
       "      <th>District</th>\n",
       "      <th>Description</th>\n",
       "      <th>ILEADSAddress</th>\n",
       "      <th>ILEADSStreet</th>\n",
       "      <th>Neighborhood</th>\n",
       "      <th>LocationName</th>\n",
       "      <th>LocationComment</th>\n",
       "      <th>CADAddress</th>\n",
       "      <th>CADStreet</th>\n",
       "      <th>XCoord</th>\n",
       "      <th>YCoord</th>\n",
       "    </tr>\n",
       "  </thead>\n",
       "  <tbody>\n",
       "    <tr>\n",
       "      <th>0</th>\n",
       "      <td>20-014387</td>\n",
       "      <td>2020-03</td>\n",
       "      <td>01/01/1900 00:00</td>\n",
       "      <td>Y</td>\n",
       "      <td></td>\n",
       "      <td></td>\n",
       "      <td>1</td>\n",
       "      <td></td>\n",
       "      <td>51212</td>\n",
       "      <td>4</td>\n",
       "      <td>BURGLARY-RESIDENCE/NIT/FORCE ENT/UNOCCUPIED</td>\n",
       "      <td>2519</td>\n",
       "      <td>N SPRING AVE</td>\n",
       "      <td>59</td>\n",
       "      <td></td>\n",
       "      <td></td>\n",
       "      <td>2519</td>\n",
       "      <td>SPRING</td>\n",
       "      <td>898850.5</td>\n",
       "      <td>1026873.0</td>\n",
       "    </tr>\n",
       "    <tr>\n",
       "      <th>1</th>\n",
       "      <td>19-064944</td>\n",
       "      <td>2020-03</td>\n",
       "      <td>01/01/2011 12:00</td>\n",
       "      <td>Y</td>\n",
       "      <td></td>\n",
       "      <td></td>\n",
       "      <td>1</td>\n",
       "      <td></td>\n",
       "      <td>179210</td>\n",
       "      <td>4</td>\n",
       "      <td>SEX OFFNS-CHILD MOLESTATION-FIRST DEGREE</td>\n",
       "      <td>2200</td>\n",
       "      <td>SULLIVAN</td>\n",
       "      <td>36</td>\n",
       "      <td></td>\n",
       "      <td></td>\n",
       "      <td>2200</td>\n",
       "      <td>SULLIVAN</td>\n",
       "      <td>0.0</td>\n",
       "      <td>0.0</td>\n",
       "    </tr>\n",
       "    <tr>\n",
       "      <th>2</th>\n",
       "      <td>20-009267</td>\n",
       "      <td>2020-03</td>\n",
       "      <td>01/01/2020 07:00</td>\n",
       "      <td>Y</td>\n",
       "      <td></td>\n",
       "      <td></td>\n",
       "      <td>1</td>\n",
       "      <td></td>\n",
       "      <td>41024</td>\n",
       "      <td>6</td>\n",
       "      <td>ASSLT-AGGRAV-FIREARM-1ST-CHILD-DOMESTIC</td>\n",
       "      <td>1022</td>\n",
       "      <td>BITTNER ST</td>\n",
       "      <td>74</td>\n",
       "      <td></td>\n",
       "      <td></td>\n",
       "      <td>1022</td>\n",
       "      <td>BITTNER</td>\n",
       "      <td>896465.9</td>\n",
       "      <td>1047368.0</td>\n",
       "    </tr>\n",
       "    <tr>\n",
       "      <th>3</th>\n",
       "      <td>20-009267</td>\n",
       "      <td>2020-03</td>\n",
       "      <td>01/01/2020 07:00</td>\n",
       "      <td>Y</td>\n",
       "      <td></td>\n",
       "      <td></td>\n",
       "      <td>1</td>\n",
       "      <td></td>\n",
       "      <td>41014</td>\n",
       "      <td>6</td>\n",
       "      <td>ASSLT-AGGRAV-FIREARM-1ST-ADULT-DOMESTIC</td>\n",
       "      <td>1022</td>\n",
       "      <td>BITTNER ST</td>\n",
       "      <td>74</td>\n",
       "      <td></td>\n",
       "      <td></td>\n",
       "      <td>1022</td>\n",
       "      <td>BITTNER</td>\n",
       "      <td>896465.9</td>\n",
       "      <td>1047368.0</td>\n",
       "    </tr>\n",
       "    <tr>\n",
       "      <th>4</th>\n",
       "      <td>20-010456</td>\n",
       "      <td>2020-03</td>\n",
       "      <td>01/01/2020 08:00</td>\n",
       "      <td>Y</td>\n",
       "      <td></td>\n",
       "      <td></td>\n",
       "      <td>1</td>\n",
       "      <td></td>\n",
       "      <td>115400</td>\n",
       "      <td>2</td>\n",
       "      <td>STLG BY DECEIT/IDENTITY THEFT REPORT</td>\n",
       "      <td>6801</td>\n",
       "      <td>LANSDOWNE AVE</td>\n",
       "      <td>9</td>\n",
       "      <td></td>\n",
       "      <td></td>\n",
       "      <td>6801</td>\n",
       "      <td>LANSDOWNE</td>\n",
       "      <td>874939.2</td>\n",
       "      <td>1004281.0</td>\n",
       "    </tr>\n",
       "  </tbody>\n",
       "</table>\n",
       "</div>"
      ],
      "text/plain": [
       "   Complaint CodedMonth         DateOccur FlagCrime FlagUnfounded  \\\n",
       "0  20-014387    2020-03  01/01/1900 00:00         Y                 \n",
       "1  19-064944    2020-03  01/01/2011 12:00         Y                 \n",
       "2  20-009267    2020-03  01/01/2020 07:00         Y                 \n",
       "3  20-009267    2020-03  01/01/2020 07:00         Y                 \n",
       "4  20-010456    2020-03  01/01/2020 08:00         Y                 \n",
       "\n",
       "  FlagAdministrative  Count FlagCleanup   Crime  District  \\\n",
       "0                         1               51212         4   \n",
       "1                         1              179210         4   \n",
       "2                         1               41024         6   \n",
       "3                         1               41014         6   \n",
       "4                         1              115400         2   \n",
       "\n",
       "                                   Description ILEADSAddress   ILEADSStreet  \\\n",
       "0  BURGLARY-RESIDENCE/NIT/FORCE ENT/UNOCCUPIED          2519   N SPRING AVE   \n",
       "1     SEX OFFNS-CHILD MOLESTATION-FIRST DEGREE          2200       SULLIVAN   \n",
       "2      ASSLT-AGGRAV-FIREARM-1ST-CHILD-DOMESTIC          1022     BITTNER ST   \n",
       "3      ASSLT-AGGRAV-FIREARM-1ST-ADULT-DOMESTIC          1022     BITTNER ST   \n",
       "4         STLG BY DECEIT/IDENTITY THEFT REPORT          6801  LANSDOWNE AVE   \n",
       "\n",
       "   Neighborhood LocationName LocationComment CADAddress  CADStreet    XCoord  \\\n",
       "0            59                                    2519     SPRING  898850.5   \n",
       "1            36                                    2200   SULLIVAN       0.0   \n",
       "2            74                                    1022    BITTNER  896465.9   \n",
       "3            74                                    1022    BITTNER  896465.9   \n",
       "4             9                                    6801  LANSDOWNE  874939.2   \n",
       "\n",
       "      YCoord  \n",
       "0  1026873.0  \n",
       "1        0.0  \n",
       "2  1047368.0  \n",
       "3  1047368.0  \n",
       "4  1004281.0  "
      ]
     },
     "execution_count": 21,
     "metadata": {},
     "output_type": "execute_result"
    }
   ],
   "source": [
    "crime_csv.head()"
   ]
  },
  {
   "cell_type": "code",
   "execution_count": 23,
   "metadata": {},
   "outputs": [
    {
     "data": {
      "text/plain": [
       "'01/01/1900 00:00'"
      ]
     },
     "execution_count": 23,
     "metadata": {},
     "output_type": "execute_result"
    }
   ],
   "source": [
    "crime_csv.at[0, 'DateOccur']"
   ]
  },
  {
   "cell_type": "code",
   "execution_count": null,
   "metadata": {},
   "outputs": [],
   "source": []
  },
  {
   "cell_type": "markdown",
   "metadata": {},
   "source": [
    "## Filter 0 points"
   ]
  },
  {
   "cell_type": "code",
   "execution_count": 27,
   "metadata": {},
   "outputs": [],
   "source": [
    "filtered_crime_df = crime_csv[crime_csv['XCoord'] != 0]"
   ]
  },
  {
   "cell_type": "code",
   "execution_count": 28,
   "metadata": {},
   "outputs": [
    {
     "data": {
      "text/plain": [
       "3320"
      ]
     },
     "execution_count": 28,
     "metadata": {},
     "output_type": "execute_result"
    }
   ],
   "source": [
    "len(filtered_crime_df)"
   ]
  },
  {
   "cell_type": "code",
   "execution_count": 29,
   "metadata": {},
   "outputs": [
    {
     "data": {
      "text/plain": [
       "3320"
      ]
     },
     "execution_count": 29,
     "metadata": {},
     "output_type": "execute_result"
    }
   ],
   "source": [
    "filtered_crime_df = crime_csv[(crime_csv['XCoord'] != 0) | (crime_csv['YCoord'] != 0)]\n",
    "len(filtered_crime_df)"
   ]
  },
  {
   "cell_type": "markdown",
   "metadata": {},
   "source": [
    "## Filter by Date"
   ]
  },
  {
   "cell_type": "code",
   "execution_count": 30,
   "metadata": {},
   "outputs": [
    {
     "data": {
      "text/plain": [
       "3032"
      ]
     },
     "execution_count": 30,
     "metadata": {},
     "output_type": "execute_result"
    }
   ],
   "source": [
    "new_crim_df = filtered_crime_csv[filtered_crime_csv.DateOccur >= '03/01/2020']\n",
    "len(new_crim_df)"
   ]
  },
  {
   "cell_type": "code",
   "execution_count": null,
   "metadata": {},
   "outputs": [],
   "source": []
  },
  {
   "cell_type": "markdown",
   "metadata": {},
   "source": [
    "## Let's Turn this into a feature class using the Spatial DataFrame"
   ]
  },
  {
   "cell_type": "code",
   "execution_count": 34,
   "metadata": {},
   "outputs": [],
   "source": [
    "import arcgis\n",
    "from arcgis.features import SpatialDataFrame"
   ]
  },
  {
   "cell_type": "code",
   "execution_count": null,
   "metadata": {},
   "outputs": [],
   "source": [
    "#wkid = 102696\n",
    "#crime_coords = new_crim_df.iloc[:,18:20].values.tolist()\n",
    "#crime_coords"
   ]
  },
  {
   "cell_type": "markdown",
   "metadata": {},
   "source": [
    "## Convert to list of geometries"
   ]
  },
  {
   "cell_type": "code",
   "execution_count": null,
   "metadata": {},
   "outputs": [],
   "source": [
    "#geometries=[arcgis.geometry.Geometry({'x':r[0], 'y':r[1], \n",
    "#                    'spatialReference':{'wkid':wkid}}) for r in crime_coords]"
   ]
  },
  {
   "cell_type": "markdown",
   "metadata": {},
   "source": [
    "WKID from https://www.spatialreference.org/ref/?search=Missouri"
   ]
  },
  {
   "cell_type": "code",
   "execution_count": 35,
   "metadata": {},
   "outputs": [],
   "source": [
    "from arcgis.features import GeoAccessor as ga"
   ]
  },
  {
   "cell_type": "code",
   "execution_count": 36,
   "metadata": {},
   "outputs": [
    {
     "name": "stderr",
     "output_type": "stream",
     "text": [
      "C:\\Users\\greg6750\\AppData\\Local\\ESRI\\conda\\envs\\plotly-env\\lib\\site-packages\\arcgis\\features\\geo\\_io\\fileops.py:150: SettingWithCopyWarning: \n",
      "A value is trying to be set on a copy of a slice from a DataFrame.\n",
      "Try using .loc[row_indexer,col_indexer] = value instead\n",
      "\n",
      "See the caveats in the documentation: https://pandas.pydata.org/pandas-docs/stable/user_guide/indexing.html#returning-a-view-versus-a-copy\n",
      "  df['SHAPE'] = geoms\n",
      "C:\\Users\\greg6750\\AppData\\Local\\ESRI\\conda\\envs\\plotly-env\\lib\\site-packages\\pandas\\core\\indexing.py:966: SettingWithCopyWarning: \n",
      "A value is trying to be set on a copy of a slice from a DataFrame.\n",
      "Try using .loc[row_indexer,col_indexer] = value instead\n",
      "\n",
      "See the caveats in the documentation: https://pandas.pydata.org/pandas-docs/stable/user_guide/indexing.html#returning-a-view-versus-a-copy\n",
      "  self.obj[item] = s\n",
      "C:\\Users\\greg6750\\AppData\\Local\\ESRI\\conda\\envs\\plotly-env\\lib\\site-packages\\arcgis\\features\\geo\\_accessor.py:1048: SettingWithCopyWarning: \n",
      "A value is trying to be set on a copy of a slice from a DataFrame.\n",
      "Try using .loc[row_indexer,col_indexer] = value instead\n",
      "\n",
      "See the caveats in the documentation: https://pandas.pydata.org/pandas-docs/stable/user_guide/indexing.html#returning-a-view-versus-a-copy\n",
      "  self._data[col] = GeoArray(self._data[col])\n"
     ]
    }
   ],
   "source": [
    "wkid = 102696\n",
    "sdf = ga.from_xy(new_crim_df, 'XCoord', 'YCoord', sr=wkid)"
   ]
  },
  {
   "cell_type": "code",
   "execution_count": null,
   "metadata": {},
   "outputs": [],
   "source": []
  },
  {
   "cell_type": "code",
   "execution_count": 37,
   "metadata": {},
   "outputs": [
    {
     "data": {
      "text/plain": [
       "3032"
      ]
     },
     "execution_count": 37,
     "metadata": {},
     "output_type": "execute_result"
    }
   ],
   "source": [
    "len(sdf)"
   ]
  },
  {
   "cell_type": "code",
   "execution_count": 38,
   "metadata": {},
   "outputs": [
    {
     "data": {
      "text/html": [
       "<div>\n",
       "<style scoped>\n",
       "    .dataframe tbody tr th:only-of-type {\n",
       "        vertical-align: middle;\n",
       "    }\n",
       "\n",
       "    .dataframe tbody tr th {\n",
       "        vertical-align: top;\n",
       "    }\n",
       "\n",
       "    .dataframe thead th {\n",
       "        text-align: right;\n",
       "    }\n",
       "</style>\n",
       "<table border=\"1\" class=\"dataframe\">\n",
       "  <thead>\n",
       "    <tr style=\"text-align: right;\">\n",
       "      <th></th>\n",
       "      <th>Complaint</th>\n",
       "      <th>CodedMonth</th>\n",
       "      <th>DateOccur</th>\n",
       "      <th>FlagCrime</th>\n",
       "      <th>FlagUnfounded</th>\n",
       "      <th>FlagAdministrative</th>\n",
       "      <th>Count</th>\n",
       "      <th>FlagCleanup</th>\n",
       "      <th>Crime</th>\n",
       "      <th>District</th>\n",
       "      <th>...</th>\n",
       "      <th>ILEADSAddress</th>\n",
       "      <th>ILEADSStreet</th>\n",
       "      <th>Neighborhood</th>\n",
       "      <th>LocationName</th>\n",
       "      <th>LocationComment</th>\n",
       "      <th>CADAddress</th>\n",
       "      <th>CADStreet</th>\n",
       "      <th>XCoord</th>\n",
       "      <th>YCoord</th>\n",
       "      <th>SHAPE</th>\n",
       "    </tr>\n",
       "  </thead>\n",
       "  <tbody>\n",
       "    <tr>\n",
       "      <th>329</th>\n",
       "      <td>20-010078</td>\n",
       "      <td>2020-03</td>\n",
       "      <td>03/01/2020 00:08</td>\n",
       "      <td>Y</td>\n",
       "      <td></td>\n",
       "      <td></td>\n",
       "      <td>1</td>\n",
       "      <td></td>\n",
       "      <td>91113</td>\n",
       "      <td>4</td>\n",
       "      <td>...</td>\n",
       "      <td>800</td>\n",
       "      <td>CASS AVE</td>\n",
       "      <td>62</td>\n",
       "      <td></td>\n",
       "      <td></td>\n",
       "      <td>1915</td>\n",
       "      <td>OLIVE</td>\n",
       "      <td>909015.6</td>\n",
       "      <td>1021948.0</td>\n",
       "      <td>{'x': 909015.6, 'y': 1021948.0, 'spatialRefere...</td>\n",
       "    </tr>\n",
       "    <tr>\n",
       "      <th>330</th>\n",
       "      <td>20-010060</td>\n",
       "      <td>2020-03</td>\n",
       "      <td>03/01/2020 00:20</td>\n",
       "      <td>Y</td>\n",
       "      <td></td>\n",
       "      <td></td>\n",
       "      <td>1</td>\n",
       "      <td></td>\n",
       "      <td>38111</td>\n",
       "      <td>5</td>\n",
       "      <td>...</td>\n",
       "      <td>5223</td>\n",
       "      <td>VERNON AVE</td>\n",
       "      <td>51</td>\n",
       "      <td></td>\n",
       "      <td></td>\n",
       "      <td>530</td>\n",
       "      <td>UNION</td>\n",
       "      <td>885743.4</td>\n",
       "      <td>1028894.0</td>\n",
       "      <td>{'x': 885743.4, 'y': 1028894.0, 'spatialRefere...</td>\n",
       "    </tr>\n",
       "    <tr>\n",
       "      <th>331</th>\n",
       "      <td>20-010056</td>\n",
       "      <td>2020-03</td>\n",
       "      <td>03/01/2020 00:30</td>\n",
       "      <td>Y</td>\n",
       "      <td></td>\n",
       "      <td></td>\n",
       "      <td>1</td>\n",
       "      <td></td>\n",
       "      <td>265321</td>\n",
       "      <td>4</td>\n",
       "      <td>...</td>\n",
       "      <td>0</td>\n",
       "      <td>N 4TH ST / WASHINGTON AVE</td>\n",
       "      <td>35</td>\n",
       "      <td></td>\n",
       "      <td></td>\n",
       "      <td></td>\n",
       "      <td></td>\n",
       "      <td>909581.6</td>\n",
       "      <td>1018292.0</td>\n",
       "      <td>{'x': 909581.6, 'y': 1018292.0, 'spatialRefere...</td>\n",
       "    </tr>\n",
       "    <tr>\n",
       "      <th>332</th>\n",
       "      <td>20-010096</td>\n",
       "      <td>2020-03</td>\n",
       "      <td>03/01/2020 00:45</td>\n",
       "      <td>Y</td>\n",
       "      <td></td>\n",
       "      <td></td>\n",
       "      <td>1</td>\n",
       "      <td></td>\n",
       "      <td>71013</td>\n",
       "      <td>4</td>\n",
       "      <td>...</td>\n",
       "      <td>0</td>\n",
       "      <td>N 20TH ST / LOCUST ST</td>\n",
       "      <td>36</td>\n",
       "      <td></td>\n",
       "      <td></td>\n",
       "      <td></td>\n",
       "      <td></td>\n",
       "      <td>903611.1</td>\n",
       "      <td>1019495.0</td>\n",
       "      <td>{'x': 903611.1, 'y': 1019495.0, 'spatialRefere...</td>\n",
       "    </tr>\n",
       "    <tr>\n",
       "      <th>333</th>\n",
       "      <td>20-010058</td>\n",
       "      <td>2020-03</td>\n",
       "      <td>03/01/2020 00:55</td>\n",
       "      <td>Y</td>\n",
       "      <td></td>\n",
       "      <td></td>\n",
       "      <td>1</td>\n",
       "      <td></td>\n",
       "      <td>250000</td>\n",
       "      <td>4</td>\n",
       "      <td>...</td>\n",
       "      <td>1234</td>\n",
       "      <td>WASHINGTON AVE</td>\n",
       "      <td>36</td>\n",
       "      <td>LUCAS PARK GIRLL</td>\n",
       "      <td></td>\n",
       "      <td>1234</td>\n",
       "      <td>WASHINGTON</td>\n",
       "      <td>906445.8</td>\n",
       "      <td>1019008.0</td>\n",
       "      <td>{'x': 906445.8, 'y': 1019008.0, 'spatialRefere...</td>\n",
       "    </tr>\n",
       "  </tbody>\n",
       "</table>\n",
       "<p>5 rows × 21 columns</p>\n",
       "</div>"
      ],
      "text/plain": [
       "     Complaint CodedMonth         DateOccur FlagCrime FlagUnfounded  \\\n",
       "329  20-010078    2020-03  03/01/2020 00:08         Y                 \n",
       "330  20-010060    2020-03  03/01/2020 00:20         Y                 \n",
       "331  20-010056    2020-03  03/01/2020 00:30         Y                 \n",
       "332  20-010096    2020-03  03/01/2020 00:45         Y                 \n",
       "333  20-010058    2020-03  03/01/2020 00:55         Y                 \n",
       "\n",
       "    FlagAdministrative  Count FlagCleanup   Crime  District  ...  \\\n",
       "329                         1               91113         4  ...   \n",
       "330                         1               38111         5  ...   \n",
       "331                         1              265321         4  ...   \n",
       "332                         1               71013         4  ...   \n",
       "333                         1              250000         4  ...   \n",
       "\n",
       "    ILEADSAddress               ILEADSStreet Neighborhood      LocationName  \\\n",
       "329           800                   CASS AVE           62                     \n",
       "330          5223                 VERNON AVE           51                     \n",
       "331             0  N 4TH ST / WASHINGTON AVE           35                     \n",
       "332             0      N 20TH ST / LOCUST ST           36                     \n",
       "333          1234             WASHINGTON AVE           36  LUCAS PARK GIRLL   \n",
       "\n",
       "    LocationComment CADAddress   CADStreet    XCoord     YCoord  \\\n",
       "329                       1915       OLIVE  909015.6  1021948.0   \n",
       "330                        530       UNION  885743.4  1028894.0   \n",
       "331                                         909581.6  1018292.0   \n",
       "332                                         903611.1  1019495.0   \n",
       "333                       1234  WASHINGTON  906445.8  1019008.0   \n",
       "\n",
       "                                                 SHAPE  \n",
       "329  {'x': 909015.6, 'y': 1021948.0, 'spatialRefere...  \n",
       "330  {'x': 885743.4, 'y': 1028894.0, 'spatialRefere...  \n",
       "331  {'x': 909581.6, 'y': 1018292.0, 'spatialRefere...  \n",
       "332  {'x': 903611.1, 'y': 1019495.0, 'spatialRefere...  \n",
       "333  {'x': 906445.8, 'y': 1019008.0, 'spatialRefere...  \n",
       "\n",
       "[5 rows x 21 columns]"
      ]
     },
     "execution_count": 38,
     "metadata": {},
     "output_type": "execute_result"
    }
   ],
   "source": [
    "sdf.head()"
   ]
  },
  {
   "cell_type": "markdown",
   "metadata": {},
   "source": [
    "## Let's see the result on a map!!!"
   ]
  },
  {
   "cell_type": "code",
   "execution_count": 31,
   "metadata": {},
   "outputs": [
    {
     "name": "stdout",
     "output_type": "stream",
     "text": [
      "Enter password: ········\n"
     ]
    }
   ],
   "source": [
    "from arcgis.gis import GIS\n",
    "from arcgis.geoenrichment import *\n",
    "\n",
    "gis = GIS(\"http://slustl.maps.arcgis.com/home\", \"gregbrunner_slugis\")"
   ]
  },
  {
   "cell_type": "code",
   "execution_count": 32,
   "metadata": {},
   "outputs": [
    {
     "data": {
      "application/vnd.jupyter.widget-view+json": {
       "model_id": "bae8767875014a42beafcf39b4a68879",
       "version_major": 2,
       "version_minor": 0
      },
      "text/plain": [
       "MapView(layout=Layout(height='400px', width='100%'))"
      ]
     },
     "metadata": {},
     "output_type": "display_data"
    },
    {
     "data": {
      "text/html": [
       "<div class=\"map-static-img-preview-b170154c-ea32-47b6-861d-3487c131f8f1\"><img src=\"\"></img></div>"
      ],
      "text/plain": [
       "<IPython.core.display.HTML object>"
      ]
     },
     "metadata": {},
     "output_type": "display_data"
    }
   ],
   "source": [
    "stl_map = gis.map('St. Louis, MO')\n",
    "stl_map"
   ]
  },
  {
   "cell_type": "markdown",
   "metadata": {},
   "source": [
    "### This Fails - Change the Date"
   ]
  },
  {
   "cell_type": "code",
   "execution_count": 41,
   "metadata": {},
   "outputs": [],
   "source": [
    "crime_map = gis.content.import_data(sdf, title='STL March Crime 04202020') "
   ]
  },
  {
   "cell_type": "code",
   "execution_count": null,
   "metadata": {},
   "outputs": [],
   "source": [
    "crime_map"
   ]
  },
  {
   "cell_type": "code",
   "execution_count": 40,
   "metadata": {},
   "outputs": [],
   "source": [
    "stl_map.add_layer(crime_map, {\"renderer\":\"HeatmapRenderer\",\n",
    "               \"opacity\": 0.75})"
   ]
  },
  {
   "cell_type": "code",
   "execution_count": 42,
   "metadata": {},
   "outputs": [],
   "source": [
    "stl_map.add_layer(crime_map)"
   ]
  },
  {
   "cell_type": "markdown",
   "metadata": {},
   "source": [
    "## We can also export this data to a feature class"
   ]
  },
  {
   "cell_type": "code",
   "execution_count": 43,
   "metadata": {},
   "outputs": [
    {
     "name": "stderr",
     "output_type": "stream",
     "text": [
      "C:\\Users\\greg6750\\AppData\\Local\\ESRI\\conda\\envs\\plotly-env\\lib\\site-packages\\pandas\\core\\indexing.py:966: SettingWithCopyWarning: \n",
      "A value is trying to be set on a copy of a slice from a DataFrame.\n",
      "Try using .loc[row_indexer,col_indexer] = value instead\n",
      "\n",
      "See the caveats in the documentation: https://pandas.pydata.org/pandas-docs/stable/user_guide/indexing.html#returning-a-view-versus-a-copy\n",
      "  self.obj[item] = s\n"
     ]
    },
    {
     "data": {
      "text/plain": [
       "'C:\\\\Users\\\\greg6750\\\\Documents\\\\IPython Notebooks\\\\intro-prog-for-gis-rs\\\\april_20\\\\March2020.shp'"
      ]
     },
     "execution_count": 43,
     "metadata": {},
     "output_type": "execute_result"
    }
   ],
   "source": [
    "sdf.spatial.to_featureclass(\n",
    "    r\"C:\\Users\\greg6750\\Documents\\IPython Notebooks\\intro-prog-for-gis-rs\\april_20\\March2020.shp\", \n",
    "    overwrite=True)"
   ]
  },
  {
   "cell_type": "code",
   "execution_count": null,
   "metadata": {},
   "outputs": [],
   "source": []
  }
 ],
 "metadata": {
  "kernelspec": {
   "display_name": "Python 3",
   "language": "python",
   "name": "python3"
  },
  "language_info": {
   "codemirror_mode": {
    "name": "ipython",
    "version": 3
   },
   "file_extension": ".py",
   "mimetype": "text/x-python",
   "name": "python",
   "nbconvert_exporter": "python",
   "pygments_lexer": "ipython3",
   "version": "3.6.9"
  }
 },
 "nbformat": 4,
 "nbformat_minor": 2
}
