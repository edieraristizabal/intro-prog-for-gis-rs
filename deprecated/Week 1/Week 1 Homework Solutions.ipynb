{
 "cells": [
  {
   "cell_type": "markdown",
   "metadata": {},
   "source": [
    "# Homework 1 Problems \n",
    "\n",
    "## Problem 1"
   ]
  },
  {
   "cell_type": "code",
   "execution_count": 1,
   "metadata": {},
   "outputs": [
    {
     "name": "stdout",
     "output_type": "stream",
     "text": [
      "m\n",
      "meado.shp\n",
      "11\n",
      "meado\n",
      ".shp\n",
      "meado\n",
      "True\n",
      "w\n",
      "False\n"
     ]
    }
   ],
   "source": [
    "#Problem 1\n",
    "\n",
    "happyCow = 'meadows.shp'\n",
    "\n",
    "print(happyCow[0])\n",
    "print(happyCow[0:5] + happyCow[-4:])\n",
    "print(len(happyCow))\n",
    "print(happyCow[0:5])\n",
    "print(happyCow[-4:])\n",
    "try:\n",
    "    print(happyCow[11])\n",
    "except:\n",
    "    ('Index out of range')\n",
    "print(happyCow[:5])\n",
    "print(happyCow in \"5meadows.shp\")\n",
    "print(happyCow[5])\n",
    "print('W' in happyCow)\n",
    "\n"
   ]
  },
  {
   "cell_type": "markdown",
   "metadata": {},
   "source": [
    "## Problem 2"
   ]
  },
  {
   "cell_type": "code",
   "execution_count": 6,
   "metadata": {},
   "outputs": [
    {
     "name": "stdout",
     "output_type": "stream",
     "text": [
      "True\n",
      "True\n",
      "True\n",
      "False\n",
      "False\n",
      "False\n",
      "True\n",
      "True\n",
      "True\n",
      "True\n"
     ]
    }
   ],
   "source": [
    "#Problem 2\n",
    "#(From page 54-55 of Tateosian) Determine if each statement is True or False using the variable\n",
    "LCS_ID = '0017238'\n",
    "\n",
    "print('17' in LCS_ID)\n",
    "print(LCS_ID.isdigit())\n",
    "print(LCS_ID.lstrip('0') == '17238')\n",
    "print(LCS_ID.zfill(10) == '10101010')\n",
    "print(LCS_ID + '10' == 17248)\n",
    "print(LCS_ID[6] == '3')\n",
    "print(len(LCS_ID) == 7)\n",
    "print(LCS_ID[0:7] == '0017238')\n",
    "print(int(LCS_ID) + 10 == 17248)\n",
    "print(LCS_ID != 17238)\n",
    "\n"
   ]
  },
  {
   "cell_type": "markdown",
   "metadata": {},
   "source": [
    "## Problem 3"
   ]
  },
  {
   "cell_type": "code",
   "execution_count": 7,
   "metadata": {},
   "outputs": [
    {
     "name": "stdout",
     "output_type": "stream",
     "text": [
      "7\n",
      "[2, '4', '3', '79', '1', '66', '9', '1']\n",
      "['4', '3', '79', '1', '66', '9', '1', 2]\n",
      "['4', '3', '79', '66', '9', '1']\n",
      "4030790660901\n",
      "['4', '3', '79', '66', '9', '1']\n",
      "['4', '3', '79', '1', '66', '9', '1']\n",
      "['1', '1', '3', '4', '66', '79', '9']\n",
      "['1', '9', '66', '1', '79', '3', '4']\n"
     ]
    }
   ],
   "source": [
    "#Problem 3\n",
    "#(From page 72-73 of Tateosian) The list variable valled census is as follows:\n",
    "census = ['4', '3', '79', '1', '66', '9', '1']\n",
    "\n",
    "#Determing the following:\n",
    "\n",
    "census = ['4', '3', '79', '1', '66', '9', '1']\n",
    "print(len(census))\n",
    "census = ['4', '3', '79', '1', '66', '9', '1']\n",
    "census.insert(0,2)\n",
    "print(census)\n",
    "census = ['4', '3', '79', '1', '66', '9', '1']\n",
    "census.append(2)\n",
    "print(census)\n",
    "census = ['4', '3', '79', '1', '66', '9', '1']\n",
    "census.remove('1')\n",
    "print(census)\n",
    "census = '0'.join(census)\n",
    "print(census)\n",
    "census = ['4', '3', '79', '1', '66', '9', '1']\n",
    "census.pop(3)\n",
    "print(census)\n",
    "census = ['4', '3', '79', '1', '66', '9', '1']\n",
    "census.count('1')\n",
    "print(census)\n",
    "census = ['4', '3', '79', '1', '66', '9', '1']\n",
    "census.sort()\n",
    "print(census)\n",
    "census = ['4', '3', '79', '1', '66', '9', '1']\n",
    "census.reverse()\n",
    "print(census)\n",
    "\n"
   ]
  },
  {
   "cell_type": "markdown",
   "metadata": {},
   "source": [
    "## Problem 4"
   ]
  },
  {
   "cell_type": "code",
   "execution_count": 3,
   "metadata": {},
   "outputs": [
    {
     "name": "stdout",
     "output_type": "stream",
     "text": [
      "5\n",
      "Cairo\n",
      "['Barcelona', 'Cairo', 'Florence', 'Helsinki']\n",
      "Helsinki\n",
      "2\n",
      "['Athens', 'Cairo', 'Florence', 'Helsinki']\n",
      "['Helsinki', 'Florence', 'Cairo', 'Barcelona', 'Athens']\n",
      "['Athens', 'Barcelona', 'Cairo', 'Florence', 'Helsinki', 'Berlin']\n"
     ]
    }
   ],
   "source": [
    "#Problem 4\n",
    "#Consider the following list:\n",
    "mylist = [\"Athens\", \"Barcelona\", \"Cairo\", \"Florence\", \"Helsinki\"]\n",
    "#Determine the results of the following:\n",
    "print(len(mylist))\n",
    "print(mylist[2])\n",
    "print(mylist[1:])\n",
    "print(mylist[-1])\n",
    "print(mylist.index(\"Cairo\"))\n",
    "mylist.pop(1)\n",
    "print(mylist)\n",
    "mylist = [\"Athens\", \"Barcelona\", \"Cairo\", \"Florence\", \"Helsinki\"]\n",
    "mylist.sort(reverse = True)\n",
    "print(mylist)\n",
    "mylist = [\"Athens\", \"Barcelona\", \"Cairo\", \"Florence\", \"Helsinki\"]\n",
    "mylist.append(\"Berlin\")\n",
    "print(mylist)\n"
   ]
  },
  {
   "cell_type": "code",
   "execution_count": null,
   "metadata": {},
   "outputs": [],
   "source": []
  }
 ],
 "metadata": {
  "kernelspec": {
   "display_name": "Python 3",
   "language": "python",
   "name": "python3"
  },
  "language_info": {
   "codemirror_mode": {
    "name": "ipython",
    "version": 3
   },
   "file_extension": ".py",
   "mimetype": "text/x-python",
   "name": "python",
   "nbconvert_exporter": "python",
   "pygments_lexer": "ipython3",
   "version": "3.6.9"
  }
 },
 "nbformat": 4,
 "nbformat_minor": 2
}
